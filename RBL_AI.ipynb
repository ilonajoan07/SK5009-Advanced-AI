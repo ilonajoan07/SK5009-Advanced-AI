{
  "nbformat": 4,
  "nbformat_minor": 0,
  "metadata": {
    "colab": {
      "provenance": []
    },
    "kernelspec": {
      "name": "python3",
      "display_name": "Python 3"
    },
    "language_info": {
      "name": "python"
    }
  },
  "cells": [
    {
      "cell_type": "code",
      "source": [
        "import numpy as np\n",
        "import pandas as pd\n",
        "from sklearn.model_selection import train_test_split, GridSearchCV\n",
        "from sklearn.preprocessing import StandardScaler, OneHotEncoder, MinMaxScaler\n",
        "from sklearn.compose import ColumnTransformer\n",
        "from sklearn.pipeline import Pipeline\n",
        "from sklearn.model_selection import GridSearchCV\n",
        "from sklearn.metrics import classification_report, mean_squared_error,  r2_score\n",
        "!pip install scikeras\n",
        "from scikeras.wrappers import KerasClassifier\n",
        "from scikeras.wrappers import KerasRegressor\n",
        "from tensorflow.keras.models import Sequential\n",
        "from tensorflow.keras.layers import Dense"
      ],
      "metadata": {
        "colab": {
          "base_uri": "https://localhost:8080/"
        },
        "id": "2cizmqDTcVnF",
        "outputId": "9fa8ea36-bee0-453f-9cc5-f6773071b611"
      },
      "execution_count": null,
      "outputs": [
        {
          "output_type": "stream",
          "name": "stdout",
          "text": [
            "Collecting scikeras\n",
            "  Downloading scikeras-0.13.0-py3-none-any.whl.metadata (3.1 kB)\n",
            "Requirement already satisfied: keras>=3.2.0 in /usr/local/lib/python3.10/dist-packages (from scikeras) (3.5.0)\n",
            "Requirement already satisfied: scikit-learn>=1.4.2 in /usr/local/lib/python3.10/dist-packages (from scikeras) (1.5.2)\n",
            "Requirement already satisfied: absl-py in /usr/local/lib/python3.10/dist-packages (from keras>=3.2.0->scikeras) (1.4.0)\n",
            "Requirement already satisfied: numpy in /usr/local/lib/python3.10/dist-packages (from keras>=3.2.0->scikeras) (1.26.4)\n",
            "Requirement already satisfied: rich in /usr/local/lib/python3.10/dist-packages (from keras>=3.2.0->scikeras) (13.9.4)\n",
            "Requirement already satisfied: namex in /usr/local/lib/python3.10/dist-packages (from keras>=3.2.0->scikeras) (0.0.8)\n",
            "Requirement already satisfied: h5py in /usr/local/lib/python3.10/dist-packages (from keras>=3.2.0->scikeras) (3.12.1)\n",
            "Requirement already satisfied: optree in /usr/local/lib/python3.10/dist-packages (from keras>=3.2.0->scikeras) (0.13.1)\n",
            "Requirement already satisfied: ml-dtypes in /usr/local/lib/python3.10/dist-packages (from keras>=3.2.0->scikeras) (0.4.1)\n",
            "Requirement already satisfied: packaging in /usr/local/lib/python3.10/dist-packages (from keras>=3.2.0->scikeras) (24.2)\n",
            "Requirement already satisfied: scipy>=1.6.0 in /usr/local/lib/python3.10/dist-packages (from scikit-learn>=1.4.2->scikeras) (1.13.1)\n",
            "Requirement already satisfied: joblib>=1.2.0 in /usr/local/lib/python3.10/dist-packages (from scikit-learn>=1.4.2->scikeras) (1.4.2)\n",
            "Requirement already satisfied: threadpoolctl>=3.1.0 in /usr/local/lib/python3.10/dist-packages (from scikit-learn>=1.4.2->scikeras) (3.5.0)\n",
            "Requirement already satisfied: typing-extensions>=4.5.0 in /usr/local/lib/python3.10/dist-packages (from optree->keras>=3.2.0->scikeras) (4.12.2)\n",
            "Requirement already satisfied: markdown-it-py>=2.2.0 in /usr/local/lib/python3.10/dist-packages (from rich->keras>=3.2.0->scikeras) (3.0.0)\n",
            "Requirement already satisfied: pygments<3.0.0,>=2.13.0 in /usr/local/lib/python3.10/dist-packages (from rich->keras>=3.2.0->scikeras) (2.18.0)\n",
            "Requirement already satisfied: mdurl~=0.1 in /usr/local/lib/python3.10/dist-packages (from markdown-it-py>=2.2.0->rich->keras>=3.2.0->scikeras) (0.1.2)\n",
            "Downloading scikeras-0.13.0-py3-none-any.whl (26 kB)\n",
            "Installing collected packages: scikeras\n",
            "Successfully installed scikeras-0.13.0\n"
          ]
        }
      ]
    },
    {
      "cell_type": "code",
      "source": [
        "# Upload and read data\n",
        "from google.colab import drive\n",
        "drive.mount(\"/content/drive\")\n",
        "path = \"/content/drive/MyDrive/Loan_data_RBL_AI.xlsx\"\n",
        "data = pd.read_excel(path, engine=\"openpyxl\")\n",
        "data"
      ],
      "metadata": {
        "colab": {
          "base_uri": "https://localhost:8080/",
          "height": 461
        },
        "id": "sTfCia65-A1Y",
        "outputId": "5f2ca758-f3b3-4df8-ac14-c4af48ae3609"
      },
      "execution_count": null,
      "outputs": [
        {
          "output_type": "stream",
          "name": "stdout",
          "text": [
            "Mounted at /content/drive\n"
          ]
        },
        {
          "output_type": "execute_result",
          "data": {
            "text/plain": [
              "      Age  AnnualIncome  CreditScore  EmploymentStatus  EducationLevel  \\\n",
              "0      45         39948          617                 1               3   \n",
              "1      38         39709          628                 1               5   \n",
              "2      47         40724          570                 1               2   \n",
              "3      58         69084          545                 1               1   \n",
              "4      37        103264          594                 1               5   \n",
              "...   ...           ...          ...               ...             ...   \n",
              "1995   52         38162          582                 1               2   \n",
              "1996   39         71419          606                 1               3   \n",
              "1997   29         17664          482                 1               1   \n",
              "1998   38         22876          579                 1               1   \n",
              "1999   31         73636          590                 1               2   \n",
              "\n",
              "      Experience  LoanAmount  LoanDuration  MaritalStatus  NumberOfDependents  \\\n",
              "0             22       13152            48              2                   2   \n",
              "1             15       26045            48              1                   1   \n",
              "2             26       17627            36              2                   2   \n",
              "3             34       37898            96              1                   1   \n",
              "4             17        9184            36              2                   1   \n",
              "...          ...         ...           ...            ...                 ...   \n",
              "1995          27       18921            24              2                   3   \n",
              "1996          20       37152            60              2                   3   \n",
              "1997           9       50927            24              2                   0   \n",
              "1998          16       28262           108              2                   2   \n",
              "1999           8       15908            84              4                   0   \n",
              "\n",
              "      ...  MonthlyIncome  UtilityBillsPaymentHistory  JobTenure  NetWorth  \\\n",
              "0     ...    3329.000000                    0.724972         11    126928   \n",
              "1     ...    3309.083333                    0.935132          3     43609   \n",
              "2     ...    3393.666667                    0.872241          6      5205   \n",
              "3     ...    5757.000000                    0.896155          5     99452   \n",
              "4     ...    8605.333333                    0.941369          5    227019   \n",
              "...   ...            ...                         ...        ...       ...   \n",
              "1995  ...    3180.166667                    0.760896          3      6378   \n",
              "1996  ...    5951.583333                    0.492342          6    128273   \n",
              "1997  ...    1472.000000                    0.956304          4      3199   \n",
              "1998  ...    1906.333333                    0.758587          3    431336   \n",
              "1999  ...    6136.333333                    0.886714          4    680919   \n",
              "\n",
              "      BaseInterestRate  InterestRate  MonthlyLoanPayment  \\\n",
              "0             0.199652      0.227590          419.805992   \n",
              "1             0.207045      0.201077          794.054238   \n",
              "2             0.217627      0.212548          666.406688   \n",
              "3             0.300398      0.300911         1047.506980   \n",
              "4             0.197184      0.175990          330.179141   \n",
              "...                ...           ...                 ...   \n",
              "1995          0.202921      0.220165          981.740412   \n",
              "1996          0.239152      0.240005         1068.797921   \n",
              "1997          0.284927      0.258697         2740.324923   \n",
              "1998          0.283762      0.321012          802.398115   \n",
              "1999          0.245908      0.255615          408.386509   \n",
              "\n",
              "      TotalDebtToIncomeRatio  LoanApproved  RiskScore  \n",
              "0                   0.181077             0       49.0  \n",
              "1                   0.389852             0       52.0  \n",
              "2                   0.462157             0       52.0  \n",
              "3                   0.313098             0       54.0  \n",
              "4                   0.070210             1       36.0  \n",
              "...                      ...           ...        ...  \n",
              "1995                0.384804             0       61.0  \n",
              "1996                0.229989             0       45.0  \n",
              "1997                2.051851             0       56.0  \n",
              "1998                0.601363             0       48.0  \n",
              "1999                0.114952             1       37.6  \n",
              "\n",
              "[2000 rows x 35 columns]"
            ],
            "text/html": [
              "\n",
              "  <div id=\"df-14c487b4-0baf-44b7-a542-1471cc634514\" class=\"colab-df-container\">\n",
              "    <div>\n",
              "<style scoped>\n",
              "    .dataframe tbody tr th:only-of-type {\n",
              "        vertical-align: middle;\n",
              "    }\n",
              "\n",
              "    .dataframe tbody tr th {\n",
              "        vertical-align: top;\n",
              "    }\n",
              "\n",
              "    .dataframe thead th {\n",
              "        text-align: right;\n",
              "    }\n",
              "</style>\n",
              "<table border=\"1\" class=\"dataframe\">\n",
              "  <thead>\n",
              "    <tr style=\"text-align: right;\">\n",
              "      <th></th>\n",
              "      <th>Age</th>\n",
              "      <th>AnnualIncome</th>\n",
              "      <th>CreditScore</th>\n",
              "      <th>EmploymentStatus</th>\n",
              "      <th>EducationLevel</th>\n",
              "      <th>Experience</th>\n",
              "      <th>LoanAmount</th>\n",
              "      <th>LoanDuration</th>\n",
              "      <th>MaritalStatus</th>\n",
              "      <th>NumberOfDependents</th>\n",
              "      <th>...</th>\n",
              "      <th>MonthlyIncome</th>\n",
              "      <th>UtilityBillsPaymentHistory</th>\n",
              "      <th>JobTenure</th>\n",
              "      <th>NetWorth</th>\n",
              "      <th>BaseInterestRate</th>\n",
              "      <th>InterestRate</th>\n",
              "      <th>MonthlyLoanPayment</th>\n",
              "      <th>TotalDebtToIncomeRatio</th>\n",
              "      <th>LoanApproved</th>\n",
              "      <th>RiskScore</th>\n",
              "    </tr>\n",
              "  </thead>\n",
              "  <tbody>\n",
              "    <tr>\n",
              "      <th>0</th>\n",
              "      <td>45</td>\n",
              "      <td>39948</td>\n",
              "      <td>617</td>\n",
              "      <td>1</td>\n",
              "      <td>3</td>\n",
              "      <td>22</td>\n",
              "      <td>13152</td>\n",
              "      <td>48</td>\n",
              "      <td>2</td>\n",
              "      <td>2</td>\n",
              "      <td>...</td>\n",
              "      <td>3329.000000</td>\n",
              "      <td>0.724972</td>\n",
              "      <td>11</td>\n",
              "      <td>126928</td>\n",
              "      <td>0.199652</td>\n",
              "      <td>0.227590</td>\n",
              "      <td>419.805992</td>\n",
              "      <td>0.181077</td>\n",
              "      <td>0</td>\n",
              "      <td>49.0</td>\n",
              "    </tr>\n",
              "    <tr>\n",
              "      <th>1</th>\n",
              "      <td>38</td>\n",
              "      <td>39709</td>\n",
              "      <td>628</td>\n",
              "      <td>1</td>\n",
              "      <td>5</td>\n",
              "      <td>15</td>\n",
              "      <td>26045</td>\n",
              "      <td>48</td>\n",
              "      <td>1</td>\n",
              "      <td>1</td>\n",
              "      <td>...</td>\n",
              "      <td>3309.083333</td>\n",
              "      <td>0.935132</td>\n",
              "      <td>3</td>\n",
              "      <td>43609</td>\n",
              "      <td>0.207045</td>\n",
              "      <td>0.201077</td>\n",
              "      <td>794.054238</td>\n",
              "      <td>0.389852</td>\n",
              "      <td>0</td>\n",
              "      <td>52.0</td>\n",
              "    </tr>\n",
              "    <tr>\n",
              "      <th>2</th>\n",
              "      <td>47</td>\n",
              "      <td>40724</td>\n",
              "      <td>570</td>\n",
              "      <td>1</td>\n",
              "      <td>2</td>\n",
              "      <td>26</td>\n",
              "      <td>17627</td>\n",
              "      <td>36</td>\n",
              "      <td>2</td>\n",
              "      <td>2</td>\n",
              "      <td>...</td>\n",
              "      <td>3393.666667</td>\n",
              "      <td>0.872241</td>\n",
              "      <td>6</td>\n",
              "      <td>5205</td>\n",
              "      <td>0.217627</td>\n",
              "      <td>0.212548</td>\n",
              "      <td>666.406688</td>\n",
              "      <td>0.462157</td>\n",
              "      <td>0</td>\n",
              "      <td>52.0</td>\n",
              "    </tr>\n",
              "    <tr>\n",
              "      <th>3</th>\n",
              "      <td>58</td>\n",
              "      <td>69084</td>\n",
              "      <td>545</td>\n",
              "      <td>1</td>\n",
              "      <td>1</td>\n",
              "      <td>34</td>\n",
              "      <td>37898</td>\n",
              "      <td>96</td>\n",
              "      <td>1</td>\n",
              "      <td>1</td>\n",
              "      <td>...</td>\n",
              "      <td>5757.000000</td>\n",
              "      <td>0.896155</td>\n",
              "      <td>5</td>\n",
              "      <td>99452</td>\n",
              "      <td>0.300398</td>\n",
              "      <td>0.300911</td>\n",
              "      <td>1047.506980</td>\n",
              "      <td>0.313098</td>\n",
              "      <td>0</td>\n",
              "      <td>54.0</td>\n",
              "    </tr>\n",
              "    <tr>\n",
              "      <th>4</th>\n",
              "      <td>37</td>\n",
              "      <td>103264</td>\n",
              "      <td>594</td>\n",
              "      <td>1</td>\n",
              "      <td>5</td>\n",
              "      <td>17</td>\n",
              "      <td>9184</td>\n",
              "      <td>36</td>\n",
              "      <td>2</td>\n",
              "      <td>1</td>\n",
              "      <td>...</td>\n",
              "      <td>8605.333333</td>\n",
              "      <td>0.941369</td>\n",
              "      <td>5</td>\n",
              "      <td>227019</td>\n",
              "      <td>0.197184</td>\n",
              "      <td>0.175990</td>\n",
              "      <td>330.179141</td>\n",
              "      <td>0.070210</td>\n",
              "      <td>1</td>\n",
              "      <td>36.0</td>\n",
              "    </tr>\n",
              "    <tr>\n",
              "      <th>...</th>\n",
              "      <td>...</td>\n",
              "      <td>...</td>\n",
              "      <td>...</td>\n",
              "      <td>...</td>\n",
              "      <td>...</td>\n",
              "      <td>...</td>\n",
              "      <td>...</td>\n",
              "      <td>...</td>\n",
              "      <td>...</td>\n",
              "      <td>...</td>\n",
              "      <td>...</td>\n",
              "      <td>...</td>\n",
              "      <td>...</td>\n",
              "      <td>...</td>\n",
              "      <td>...</td>\n",
              "      <td>...</td>\n",
              "      <td>...</td>\n",
              "      <td>...</td>\n",
              "      <td>...</td>\n",
              "      <td>...</td>\n",
              "      <td>...</td>\n",
              "    </tr>\n",
              "    <tr>\n",
              "      <th>1995</th>\n",
              "      <td>52</td>\n",
              "      <td>38162</td>\n",
              "      <td>582</td>\n",
              "      <td>1</td>\n",
              "      <td>2</td>\n",
              "      <td>27</td>\n",
              "      <td>18921</td>\n",
              "      <td>24</td>\n",
              "      <td>2</td>\n",
              "      <td>3</td>\n",
              "      <td>...</td>\n",
              "      <td>3180.166667</td>\n",
              "      <td>0.760896</td>\n",
              "      <td>3</td>\n",
              "      <td>6378</td>\n",
              "      <td>0.202921</td>\n",
              "      <td>0.220165</td>\n",
              "      <td>981.740412</td>\n",
              "      <td>0.384804</td>\n",
              "      <td>0</td>\n",
              "      <td>61.0</td>\n",
              "    </tr>\n",
              "    <tr>\n",
              "      <th>1996</th>\n",
              "      <td>39</td>\n",
              "      <td>71419</td>\n",
              "      <td>606</td>\n",
              "      <td>1</td>\n",
              "      <td>3</td>\n",
              "      <td>20</td>\n",
              "      <td>37152</td>\n",
              "      <td>60</td>\n",
              "      <td>2</td>\n",
              "      <td>3</td>\n",
              "      <td>...</td>\n",
              "      <td>5951.583333</td>\n",
              "      <td>0.492342</td>\n",
              "      <td>6</td>\n",
              "      <td>128273</td>\n",
              "      <td>0.239152</td>\n",
              "      <td>0.240005</td>\n",
              "      <td>1068.797921</td>\n",
              "      <td>0.229989</td>\n",
              "      <td>0</td>\n",
              "      <td>45.0</td>\n",
              "    </tr>\n",
              "    <tr>\n",
              "      <th>1997</th>\n",
              "      <td>29</td>\n",
              "      <td>17664</td>\n",
              "      <td>482</td>\n",
              "      <td>1</td>\n",
              "      <td>1</td>\n",
              "      <td>9</td>\n",
              "      <td>50927</td>\n",
              "      <td>24</td>\n",
              "      <td>2</td>\n",
              "      <td>0</td>\n",
              "      <td>...</td>\n",
              "      <td>1472.000000</td>\n",
              "      <td>0.956304</td>\n",
              "      <td>4</td>\n",
              "      <td>3199</td>\n",
              "      <td>0.284927</td>\n",
              "      <td>0.258697</td>\n",
              "      <td>2740.324923</td>\n",
              "      <td>2.051851</td>\n",
              "      <td>0</td>\n",
              "      <td>56.0</td>\n",
              "    </tr>\n",
              "    <tr>\n",
              "      <th>1998</th>\n",
              "      <td>38</td>\n",
              "      <td>22876</td>\n",
              "      <td>579</td>\n",
              "      <td>1</td>\n",
              "      <td>1</td>\n",
              "      <td>16</td>\n",
              "      <td>28262</td>\n",
              "      <td>108</td>\n",
              "      <td>2</td>\n",
              "      <td>2</td>\n",
              "      <td>...</td>\n",
              "      <td>1906.333333</td>\n",
              "      <td>0.758587</td>\n",
              "      <td>3</td>\n",
              "      <td>431336</td>\n",
              "      <td>0.283762</td>\n",
              "      <td>0.321012</td>\n",
              "      <td>802.398115</td>\n",
              "      <td>0.601363</td>\n",
              "      <td>0</td>\n",
              "      <td>48.0</td>\n",
              "    </tr>\n",
              "    <tr>\n",
              "      <th>1999</th>\n",
              "      <td>31</td>\n",
              "      <td>73636</td>\n",
              "      <td>590</td>\n",
              "      <td>1</td>\n",
              "      <td>2</td>\n",
              "      <td>8</td>\n",
              "      <td>15908</td>\n",
              "      <td>84</td>\n",
              "      <td>4</td>\n",
              "      <td>0</td>\n",
              "      <td>...</td>\n",
              "      <td>6136.333333</td>\n",
              "      <td>0.886714</td>\n",
              "      <td>4</td>\n",
              "      <td>680919</td>\n",
              "      <td>0.245908</td>\n",
              "      <td>0.255615</td>\n",
              "      <td>408.386509</td>\n",
              "      <td>0.114952</td>\n",
              "      <td>1</td>\n",
              "      <td>37.6</td>\n",
              "    </tr>\n",
              "  </tbody>\n",
              "</table>\n",
              "<p>2000 rows × 35 columns</p>\n",
              "</div>\n",
              "    <div class=\"colab-df-buttons\">\n",
              "\n",
              "  <div class=\"colab-df-container\">\n",
              "    <button class=\"colab-df-convert\" onclick=\"convertToInteractive('df-14c487b4-0baf-44b7-a542-1471cc634514')\"\n",
              "            title=\"Convert this dataframe to an interactive table.\"\n",
              "            style=\"display:none;\">\n",
              "\n",
              "  <svg xmlns=\"http://www.w3.org/2000/svg\" height=\"24px\" viewBox=\"0 -960 960 960\">\n",
              "    <path d=\"M120-120v-720h720v720H120Zm60-500h600v-160H180v160Zm220 220h160v-160H400v160Zm0 220h160v-160H400v160ZM180-400h160v-160H180v160Zm440 0h160v-160H620v160ZM180-180h160v-160H180v160Zm440 0h160v-160H620v160Z\"/>\n",
              "  </svg>\n",
              "    </button>\n",
              "\n",
              "  <style>\n",
              "    .colab-df-container {\n",
              "      display:flex;\n",
              "      gap: 12px;\n",
              "    }\n",
              "\n",
              "    .colab-df-convert {\n",
              "      background-color: #E8F0FE;\n",
              "      border: none;\n",
              "      border-radius: 50%;\n",
              "      cursor: pointer;\n",
              "      display: none;\n",
              "      fill: #1967D2;\n",
              "      height: 32px;\n",
              "      padding: 0 0 0 0;\n",
              "      width: 32px;\n",
              "    }\n",
              "\n",
              "    .colab-df-convert:hover {\n",
              "      background-color: #E2EBFA;\n",
              "      box-shadow: 0px 1px 2px rgba(60, 64, 67, 0.3), 0px 1px 3px 1px rgba(60, 64, 67, 0.15);\n",
              "      fill: #174EA6;\n",
              "    }\n",
              "\n",
              "    .colab-df-buttons div {\n",
              "      margin-bottom: 4px;\n",
              "    }\n",
              "\n",
              "    [theme=dark] .colab-df-convert {\n",
              "      background-color: #3B4455;\n",
              "      fill: #D2E3FC;\n",
              "    }\n",
              "\n",
              "    [theme=dark] .colab-df-convert:hover {\n",
              "      background-color: #434B5C;\n",
              "      box-shadow: 0px 1px 3px 1px rgba(0, 0, 0, 0.15);\n",
              "      filter: drop-shadow(0px 1px 2px rgba(0, 0, 0, 0.3));\n",
              "      fill: #FFFFFF;\n",
              "    }\n",
              "  </style>\n",
              "\n",
              "    <script>\n",
              "      const buttonEl =\n",
              "        document.querySelector('#df-14c487b4-0baf-44b7-a542-1471cc634514 button.colab-df-convert');\n",
              "      buttonEl.style.display =\n",
              "        google.colab.kernel.accessAllowed ? 'block' : 'none';\n",
              "\n",
              "      async function convertToInteractive(key) {\n",
              "        const element = document.querySelector('#df-14c487b4-0baf-44b7-a542-1471cc634514');\n",
              "        const dataTable =\n",
              "          await google.colab.kernel.invokeFunction('convertToInteractive',\n",
              "                                                    [key], {});\n",
              "        if (!dataTable) return;\n",
              "\n",
              "        const docLinkHtml = 'Like what you see? Visit the ' +\n",
              "          '<a target=\"_blank\" href=https://colab.research.google.com/notebooks/data_table.ipynb>data table notebook</a>'\n",
              "          + ' to learn more about interactive tables.';\n",
              "        element.innerHTML = '';\n",
              "        dataTable['output_type'] = 'display_data';\n",
              "        await google.colab.output.renderOutput(dataTable, element);\n",
              "        const docLink = document.createElement('div');\n",
              "        docLink.innerHTML = docLinkHtml;\n",
              "        element.appendChild(docLink);\n",
              "      }\n",
              "    </script>\n",
              "  </div>\n",
              "\n",
              "\n",
              "<div id=\"df-c4e003f7-af1a-4dbd-8c29-67b0d4621058\">\n",
              "  <button class=\"colab-df-quickchart\" onclick=\"quickchart('df-c4e003f7-af1a-4dbd-8c29-67b0d4621058')\"\n",
              "            title=\"Suggest charts\"\n",
              "            style=\"display:none;\">\n",
              "\n",
              "<svg xmlns=\"http://www.w3.org/2000/svg\" height=\"24px\"viewBox=\"0 0 24 24\"\n",
              "     width=\"24px\">\n",
              "    <g>\n",
              "        <path d=\"M19 3H5c-1.1 0-2 .9-2 2v14c0 1.1.9 2 2 2h14c1.1 0 2-.9 2-2V5c0-1.1-.9-2-2-2zM9 17H7v-7h2v7zm4 0h-2V7h2v10zm4 0h-2v-4h2v4z\"/>\n",
              "    </g>\n",
              "</svg>\n",
              "  </button>\n",
              "\n",
              "<style>\n",
              "  .colab-df-quickchart {\n",
              "      --bg-color: #E8F0FE;\n",
              "      --fill-color: #1967D2;\n",
              "      --hover-bg-color: #E2EBFA;\n",
              "      --hover-fill-color: #174EA6;\n",
              "      --disabled-fill-color: #AAA;\n",
              "      --disabled-bg-color: #DDD;\n",
              "  }\n",
              "\n",
              "  [theme=dark] .colab-df-quickchart {\n",
              "      --bg-color: #3B4455;\n",
              "      --fill-color: #D2E3FC;\n",
              "      --hover-bg-color: #434B5C;\n",
              "      --hover-fill-color: #FFFFFF;\n",
              "      --disabled-bg-color: #3B4455;\n",
              "      --disabled-fill-color: #666;\n",
              "  }\n",
              "\n",
              "  .colab-df-quickchart {\n",
              "    background-color: var(--bg-color);\n",
              "    border: none;\n",
              "    border-radius: 50%;\n",
              "    cursor: pointer;\n",
              "    display: none;\n",
              "    fill: var(--fill-color);\n",
              "    height: 32px;\n",
              "    padding: 0;\n",
              "    width: 32px;\n",
              "  }\n",
              "\n",
              "  .colab-df-quickchart:hover {\n",
              "    background-color: var(--hover-bg-color);\n",
              "    box-shadow: 0 1px 2px rgba(60, 64, 67, 0.3), 0 1px 3px 1px rgba(60, 64, 67, 0.15);\n",
              "    fill: var(--button-hover-fill-color);\n",
              "  }\n",
              "\n",
              "  .colab-df-quickchart-complete:disabled,\n",
              "  .colab-df-quickchart-complete:disabled:hover {\n",
              "    background-color: var(--disabled-bg-color);\n",
              "    fill: var(--disabled-fill-color);\n",
              "    box-shadow: none;\n",
              "  }\n",
              "\n",
              "  .colab-df-spinner {\n",
              "    border: 2px solid var(--fill-color);\n",
              "    border-color: transparent;\n",
              "    border-bottom-color: var(--fill-color);\n",
              "    animation:\n",
              "      spin 1s steps(1) infinite;\n",
              "  }\n",
              "\n",
              "  @keyframes spin {\n",
              "    0% {\n",
              "      border-color: transparent;\n",
              "      border-bottom-color: var(--fill-color);\n",
              "      border-left-color: var(--fill-color);\n",
              "    }\n",
              "    20% {\n",
              "      border-color: transparent;\n",
              "      border-left-color: var(--fill-color);\n",
              "      border-top-color: var(--fill-color);\n",
              "    }\n",
              "    30% {\n",
              "      border-color: transparent;\n",
              "      border-left-color: var(--fill-color);\n",
              "      border-top-color: var(--fill-color);\n",
              "      border-right-color: var(--fill-color);\n",
              "    }\n",
              "    40% {\n",
              "      border-color: transparent;\n",
              "      border-right-color: var(--fill-color);\n",
              "      border-top-color: var(--fill-color);\n",
              "    }\n",
              "    60% {\n",
              "      border-color: transparent;\n",
              "      border-right-color: var(--fill-color);\n",
              "    }\n",
              "    80% {\n",
              "      border-color: transparent;\n",
              "      border-right-color: var(--fill-color);\n",
              "      border-bottom-color: var(--fill-color);\n",
              "    }\n",
              "    90% {\n",
              "      border-color: transparent;\n",
              "      border-bottom-color: var(--fill-color);\n",
              "    }\n",
              "  }\n",
              "</style>\n",
              "\n",
              "  <script>\n",
              "    async function quickchart(key) {\n",
              "      const quickchartButtonEl =\n",
              "        document.querySelector('#' + key + ' button');\n",
              "      quickchartButtonEl.disabled = true;  // To prevent multiple clicks.\n",
              "      quickchartButtonEl.classList.add('colab-df-spinner');\n",
              "      try {\n",
              "        const charts = await google.colab.kernel.invokeFunction(\n",
              "            'suggestCharts', [key], {});\n",
              "      } catch (error) {\n",
              "        console.error('Error during call to suggestCharts:', error);\n",
              "      }\n",
              "      quickchartButtonEl.classList.remove('colab-df-spinner');\n",
              "      quickchartButtonEl.classList.add('colab-df-quickchart-complete');\n",
              "    }\n",
              "    (() => {\n",
              "      let quickchartButtonEl =\n",
              "        document.querySelector('#df-c4e003f7-af1a-4dbd-8c29-67b0d4621058 button');\n",
              "      quickchartButtonEl.style.display =\n",
              "        google.colab.kernel.accessAllowed ? 'block' : 'none';\n",
              "    })();\n",
              "  </script>\n",
              "</div>\n",
              "\n",
              "  <div id=\"id_3cc0795f-854d-4817-9a67-2e933c81cef4\">\n",
              "    <style>\n",
              "      .colab-df-generate {\n",
              "        background-color: #E8F0FE;\n",
              "        border: none;\n",
              "        border-radius: 50%;\n",
              "        cursor: pointer;\n",
              "        display: none;\n",
              "        fill: #1967D2;\n",
              "        height: 32px;\n",
              "        padding: 0 0 0 0;\n",
              "        width: 32px;\n",
              "      }\n",
              "\n",
              "      .colab-df-generate:hover {\n",
              "        background-color: #E2EBFA;\n",
              "        box-shadow: 0px 1px 2px rgba(60, 64, 67, 0.3), 0px 1px 3px 1px rgba(60, 64, 67, 0.15);\n",
              "        fill: #174EA6;\n",
              "      }\n",
              "\n",
              "      [theme=dark] .colab-df-generate {\n",
              "        background-color: #3B4455;\n",
              "        fill: #D2E3FC;\n",
              "      }\n",
              "\n",
              "      [theme=dark] .colab-df-generate:hover {\n",
              "        background-color: #434B5C;\n",
              "        box-shadow: 0px 1px 3px 1px rgba(0, 0, 0, 0.15);\n",
              "        filter: drop-shadow(0px 1px 2px rgba(0, 0, 0, 0.3));\n",
              "        fill: #FFFFFF;\n",
              "      }\n",
              "    </style>\n",
              "    <button class=\"colab-df-generate\" onclick=\"generateWithVariable('data')\"\n",
              "            title=\"Generate code using this dataframe.\"\n",
              "            style=\"display:none;\">\n",
              "\n",
              "  <svg xmlns=\"http://www.w3.org/2000/svg\" height=\"24px\"viewBox=\"0 0 24 24\"\n",
              "       width=\"24px\">\n",
              "    <path d=\"M7,19H8.4L18.45,9,17,7.55,7,17.6ZM5,21V16.75L18.45,3.32a2,2,0,0,1,2.83,0l1.4,1.43a1.91,1.91,0,0,1,.58,1.4,1.91,1.91,0,0,1-.58,1.4L9.25,21ZM18.45,9,17,7.55Zm-12,3A5.31,5.31,0,0,0,4.9,8.1,5.31,5.31,0,0,0,1,6.5,5.31,5.31,0,0,0,4.9,4.9,5.31,5.31,0,0,0,6.5,1,5.31,5.31,0,0,0,8.1,4.9,5.31,5.31,0,0,0,12,6.5,5.46,5.46,0,0,0,6.5,12Z\"/>\n",
              "  </svg>\n",
              "    </button>\n",
              "    <script>\n",
              "      (() => {\n",
              "      const buttonEl =\n",
              "        document.querySelector('#id_3cc0795f-854d-4817-9a67-2e933c81cef4 button.colab-df-generate');\n",
              "      buttonEl.style.display =\n",
              "        google.colab.kernel.accessAllowed ? 'block' : 'none';\n",
              "\n",
              "      buttonEl.onclick = () => {\n",
              "        google.colab.notebook.generateWithVariable('data');\n",
              "      }\n",
              "      })();\n",
              "    </script>\n",
              "  </div>\n",
              "\n",
              "    </div>\n",
              "  </div>\n"
            ],
            "application/vnd.google.colaboratory.intrinsic+json": {
              "type": "dataframe",
              "variable_name": "data"
            }
          },
          "metadata": {},
          "execution_count": 2
        }
      ]
    },
    {
      "cell_type": "code",
      "source": [
        "data.info()"
      ],
      "metadata": {
        "colab": {
          "base_uri": "https://localhost:8080/"
        },
        "id": "wURsMDSn-_h5",
        "outputId": "cd9f0853-50b9-4825-9b87-21529d9d2e62"
      },
      "execution_count": null,
      "outputs": [
        {
          "output_type": "stream",
          "name": "stdout",
          "text": [
            "<class 'pandas.core.frame.DataFrame'>\n",
            "RangeIndex: 2000 entries, 0 to 1999\n",
            "Data columns (total 35 columns):\n",
            " #   Column                      Non-Null Count  Dtype  \n",
            "---  ------                      --------------  -----  \n",
            " 0   Age                         2000 non-null   int64  \n",
            " 1   AnnualIncome                2000 non-null   int64  \n",
            " 2   CreditScore                 2000 non-null   int64  \n",
            " 3   EmploymentStatus            2000 non-null   int64  \n",
            " 4   EducationLevel              2000 non-null   int64  \n",
            " 5   Experience                  2000 non-null   int64  \n",
            " 6   LoanAmount                  2000 non-null   int64  \n",
            " 7   LoanDuration                2000 non-null   int64  \n",
            " 8   MaritalStatus               2000 non-null   int64  \n",
            " 9   NumberOfDependents          2000 non-null   int64  \n",
            " 10  Home3ershipStatus           2000 non-null   int64  \n",
            " 11  MonthlyDebtPayments         2000 non-null   int64  \n",
            " 12  CreditCardUtilizationRate   2000 non-null   float64\n",
            " 13  NumberOfOpenCreditLines     2000 non-null   int64  \n",
            " 14  NumberOfCreditInquiries     2000 non-null   int64  \n",
            " 15  DebtToIncomeRatio           2000 non-null   float64\n",
            " 16  BankruptcyHistory           2000 non-null   int64  \n",
            " 17  LoanPurpose                 2000 non-null   int64  \n",
            " 18  PreviousLoanDefaults        2000 non-null   int64  \n",
            " 19  PaymentHistory              2000 non-null   int64  \n",
            " 20  LengthOfCreditHistory       2000 non-null   int64  \n",
            " 21  SavingsAccountBalance       2000 non-null   int64  \n",
            " 22  CheckingAccountBalance      2000 non-null   int64  \n",
            " 23  TotalAssets                 2000 non-null   int64  \n",
            " 24  TotalLiabilities            2000 non-null   int64  \n",
            " 25  MonthlyIncome               2000 non-null   float64\n",
            " 26  UtilityBillsPaymentHistory  2000 non-null   float64\n",
            " 27  JobTenure                   2000 non-null   int64  \n",
            " 28  NetWorth                    2000 non-null   int64  \n",
            " 29  BaseInterestRate            2000 non-null   float64\n",
            " 30  InterestRate                2000 non-null   float64\n",
            " 31  MonthlyLoanPayment          2000 non-null   float64\n",
            " 32  TotalDebtToIncomeRatio      2000 non-null   float64\n",
            " 33  LoanApproved                2000 non-null   int64  \n",
            " 34  RiskScore                   2000 non-null   float64\n",
            "dtypes: float64(9), int64(26)\n",
            "memory usage: 547.0 KB\n"
          ]
        }
      ]
    },
    {
      "cell_type": "code",
      "source": [
        "# Data preparation\n",
        "X = data.drop(['LoanApproved', 'RiskScore'], axis=1)\n",
        "y_classification = data['LoanApproved']\n",
        "y_regression = data['RiskScore']\n",
        "\n",
        "# SYnthetic Data Generation\n",
        "X = np.random.rand(2000, 35) # generates a 2000x35 matrix of random numbers between 0 and 1\n",
        "y_classification = np.random.randint(0, 2, 2000) # generates 2000 random integers, either 0 or 1\n",
        "y_regression = np.random.rand(2000) # generates 2000 random numbers between 0 and 1"
      ],
      "metadata": {
        "id": "JTtnTJFY92vG"
      },
      "execution_count": null,
      "outputs": []
    },
    {
      "cell_type": "code",
      "source": [
        "# Split the data\n",
        "X_train, X_test, y_class_train, y_class_test, y_reg_train, y_reg_test = train_test_split(\n",
        "    X, y_classification, y_regression, test_size=0.2, random_state=42\n",
        ")"
      ],
      "metadata": {
        "id": "u1sIosTidWqr"
      },
      "execution_count": null,
      "outputs": []
    },
    {
      "cell_type": "code",
      "source": [
        "# Scale features\n",
        "scaler = StandardScaler()\n",
        "X_train_scaled = scaler.fit_transform(X_train)\n",
        "X_test_scaled = scaler.transform(X_test)"
      ],
      "metadata": {
        "id": "VrLI1Amcdbt2"
      },
      "execution_count": null,
      "outputs": []
    },
    {
      "cell_type": "code",
      "source": [
        "# Define the model\n",
        "def create_model(optimizer='adam', activation='relu'):\n",
        "    model = Sequential()\n",
        "    model.add(Dense(64, input_dim=X_train_scaled.shape[1], activation=activation))\n",
        "    model.add(Dense(32, activation=activation))\n",
        "    model.add(Dense(1, activation='sigmoid'))  # For classification\n",
        "    model.compile(optimizer=optimizer, loss='binary_crossentropy', metrics=['accuracy'])\n",
        "    return model"
      ],
      "metadata": {
        "id": "QOrzcUnCdjU3"
      },
      "execution_count": null,
      "outputs": []
    },
    {
      "cell_type": "code",
      "source": [
        "# Wrap the Keras model for GridSearchCV\n",
        "classifier = KerasClassifier(model=create_model, verbose=0)\n",
        "\n",
        "# Grid search parameters\n",
        "param_grid = {\n",
        "    'model__activation': ['relu', 'tanh'],\n",
        "    'model__optimizer': ['adam', 'rmsprop'],\n",
        "    'batch_size': [32, 64],\n",
        "    'epochs': [10, 20]\n",
        "}\n",
        "\n",
        "# Perform grid search\n",
        "grid = GridSearchCV(estimator=classifier, param_grid=param_grid, cv=3, n_jobs=-1)\n",
        "grid_result = grid.fit(X_train_scaled, y_class_train)\n",
        "\n",
        "# Print best parameters\n",
        "print(f\"Best Parameters: {grid_result.best_params_}\")"
      ],
      "metadata": {
        "colab": {
          "base_uri": "https://localhost:8080/"
        },
        "id": "wAwogg-odiO3",
        "outputId": "fa76062b-9e6a-419b-88d1-de9497a50497"
      },
      "execution_count": null,
      "outputs": [
        {
          "output_type": "stream",
          "name": "stderr",
          "text": [
            "/usr/local/lib/python3.10/dist-packages/keras/src/layers/core/dense.py:87: UserWarning: Do not pass an `input_shape`/`input_dim` argument to a layer. When using Sequential models, prefer using an `Input(shape)` object as the first layer in the model instead.\n",
            "  super().__init__(activity_regularizer=activity_regularizer, **kwargs)\n"
          ]
        },
        {
          "output_type": "stream",
          "name": "stdout",
          "text": [
            "Best Parameters: {'batch_size': 64, 'epochs': 10, 'model__activation': 'relu', 'model__optimizer': 'rmsprop'}\n"
          ]
        }
      ]
    },
    {
      "cell_type": "code",
      "source": [
        "# Evaluate on test data\n",
        "best_model = grid_result.best_estimator_\n",
        "y_pred_class = best_model.predict(X_test_scaled)\n",
        "print(classification_report(y_class_test, y_pred_class))\n",
        "\n",
        "from sklearn.metrics import classification_report, confusion_matrix\n",
        "import seaborn as sns\n",
        "\n",
        "conf_matrix = confusion_matrix(y_class_test, y_pred_class)\n",
        "\n",
        "sns.heatmap(conf_matrix, annot=True, fmt=\"d\", cmap=\"Blues\")\n",
        "plt.xlabel(\"Predicted Label\")\n",
        "plt.ylabel(\"True Label\")\n",
        "plt.title(\"Confusion Matrix\")\n",
        "plt.savefig(\"city_knn_cm1.png\", bbox_inches = 'tight', dpi=300)\n",
        "plt.show()"
      ],
      "metadata": {
        "colab": {
          "base_uri": "https://localhost:8080/",
          "height": 628
        },
        "id": "guI0V_PNdd7T",
        "outputId": "21325a69-abca-4d8d-f160-cb398dc266d2"
      },
      "execution_count": null,
      "outputs": [
        {
          "output_type": "stream",
          "name": "stdout",
          "text": [
            "              precision    recall  f1-score   support\n",
            "\n",
            "           0       0.41      0.46      0.43       184\n",
            "           1       0.48      0.43      0.45       216\n",
            "\n",
            "    accuracy                           0.44       400\n",
            "   macro avg       0.44      0.44      0.44       400\n",
            "weighted avg       0.45      0.44      0.44       400\n",
            "\n"
          ]
        },
        {
          "output_type": "display_data",
          "data": {
            "text/plain": [
              "<Figure size 640x480 with 2 Axes>"
            ],
            "image/png": "[encoded data removed]"
          },
          "metadata": {}
        }
      ]
    },
    {
      "cell_type": "code",
      "source": [
        "# Build a regression model for risk score\n",
        "def create_regression_model(optimizer='adam', activation='relu'):\n",
        "    model = Sequential()\n",
        "    model.add(Dense(64, input_dim=X_train_scaled.shape[1], activation=activation)) #??\n",
        "    model.add(Dense(32, activation=activation))\n",
        "    model.add(Dense(1))  # For regression\n",
        "    model.compile(optimizer=optimizer, loss='mean_squared_error', metrics=['mse'])\n",
        "    return model"
      ],
      "metadata": {
        "id": "NonV9FHpddVW"
      },
      "execution_count": null,
      "outputs": []
    },
    {
      "cell_type": "code",
      "source": [
        "# Train the regression model\n",
        "regressor = KerasRegressor(build_fn=create_regression_model, verbose=0, epochs=20, batch_size=32)\n",
        "regressor.fit(X_train_scaled, y_reg_train)\n",
        "y_pred_reg = regressor.predict(X_test_scaled)\n",
        "print(f\"Mean Squared Error: {mean_squared_error(y_reg_test, y_pred_reg)}\")"
      ],
      "metadata": {
        "colab": {
          "base_uri": "https://localhost:8080/"
        },
        "id": "8uBZcYpIdcde",
        "outputId": "1a385467-9ffc-4a9e-9eb0-0de3f59aec91"
      },
      "execution_count": null,
      "outputs": [
        {
          "output_type": "stream",
          "name": "stderr",
          "text": [
            "/usr/local/lib/python3.10/dist-packages/scikeras/wrappers.py:925: UserWarning: ``build_fn`` will be renamed to ``model`` in a future release, at which point use of ``build_fn`` will raise an Error instead.\n",
            "  X, y = self._initialize(X, y)\n",
            "/usr/local/lib/python3.10/dist-packages/keras/src/layers/core/dense.py:87: UserWarning: Do not pass an `input_shape`/`input_dim` argument to a layer. When using Sequential models, prefer using an `Input(shape)` object as the first layer in the model instead.\n",
            "  super().__init__(activity_regularizer=activity_regularizer, **kwargs)\n"
          ]
        },
        {
          "output_type": "stream",
          "name": "stdout",
          "text": [
            "Mean Squared Error: 0.12226202730144521\n"
          ]
        }
      ]
    },
    {
      "cell_type": "markdown",
      "source": [
        "Different Coding to Build Model and Predict Risk Score"
      ],
      "metadata": {
        "id": "TVvsCdqbB1rB"
      }
    },
    {
      "cell_type": "code",
      "source": [
        "# Pisahkan fitur (X) dan target (y)\n",
        "X = data.drop(columns=['RiskScore'])  # Ambil semua kolom kecuali\n",
        "y = data['RiskScore']  # Kolom sebagai target"
      ],
      "metadata": {
        "id": "t62IEOw4B5cx"
      },
      "execution_count": null,
      "outputs": []
    },
    {
      "cell_type": "code",
      "source": [
        "# Bagi data2 menjadi training dan testing set\n",
        "X_train, X_test, y_train, y_test = train_test_split(X, y, test_size=0.1, random_state=42)\n",
        "\n",
        "# Normalisasi dan standarisasi data2\n",
        "scaler_minmax = MinMaxScaler()  # Normalisasi\n",
        "scaler_standard = StandardScaler()  # Standarisasi"
      ],
      "metadata": {
        "id": "ppRp9sGvAg3h"
      },
      "execution_count": null,
      "outputs": []
    },
    {
      "cell_type": "code",
      "source": [
        "# Fit-transform pada data2 training\n",
        "X_train_normalized = scaler_minmax.fit_transform(X_train)\n",
        "X_train_standardized = scaler_standard.fit_transform(X_train_normalized)\n",
        "\n",
        "# Transform data2 testing\n",
        "X_test_normalized = scaler_minmax.transform(X_test)\n",
        "X_test_standardized = scaler_standard.transform(X_test_normalized)"
      ],
      "metadata": {
        "id": "esdLUTYHAjrn"
      },
      "execution_count": null,
      "outputs": []
    },
    {
      "cell_type": "code",
      "source": [
        "# Tetapkan parameter ANN secara manual\n",
        "optimizer = 'adam'  # Optimizer yang digunakan\n",
        "neurons = 60  # Jumlah neuron di setiap lapisan\n",
        "hidden_layers = 5  # Jumlah lapisan tersembunyi\n",
        "batch_size = 32  # Ukuran batch\n",
        "epochs = 1000  # Jumlah epoch\n",
        "\n",
        "# Pembangunan model ANN\n",
        "model = Sequential()"
      ],
      "metadata": {
        "id": "NXWBZRVuAljW"
      },
      "execution_count": null,
      "outputs": []
    },
    {
      "cell_type": "code",
      "source": [
        "# Lapisan input pertama\n",
        "model.add(Dense(neurons, input_dim=X_train.shape[1], activation='relu'))\n",
        "\n",
        "# Tambahkan lapisan tersembunyi\n",
        "for _ in range(hidden_layers):\n",
        "    model.add(Dense(neurons, activation='relu'))\n",
        "\n",
        "# Lapisan output\n",
        "model.add(Dense(1, activation='linear'))\n",
        "\n",
        "# Kompilasi model\n",
        "model.compile(optimizer=optimizer, loss='mean_squared_error')\n",
        "\n",
        "# Latih model\n",
        "model.fit(X_train_standardized, y_train, batch_size=batch_size, epochs=epochs, verbose=0)\n",
        "\n",
        "# Prediksi pada training dan test set\n",
        "y_train_pred = model.predict(X_train_standardized).flatten()\n",
        "y_test_pred = model.predict(X_test_standardized).flatten()\n"
      ],
      "metadata": {
        "id": "H6M0ZKMfAsuj",
        "colab": {
          "base_uri": "https://localhost:8080/"
        },
        "outputId": "317a580c-4581-4bf0-e784-ca4f09ad0abb"
      },
      "execution_count": null,
      "outputs": [
        {
          "output_type": "stream",
          "name": "stderr",
          "text": [
            "/usr/local/lib/python3.10/dist-packages/keras/src/layers/core/dense.py:87: UserWarning: Do not pass an `input_shape`/`input_dim` argument to a layer. When using Sequential models, prefer using an `Input(shape)` object as the first layer in the model instead.\n",
            "  super().__init__(activity_regularizer=activity_regularizer, **kwargs)\n"
          ]
        },
        {
          "output_type": "stream",
          "name": "stdout",
          "text": [
            "\u001b[1m57/57\u001b[0m \u001b[32m━━━━━━━━━━━━━━━━━━━━\u001b[0m\u001b[37m\u001b[0m \u001b[1m0s\u001b[0m 3ms/step\n",
            "\u001b[1m7/7\u001b[0m \u001b[32m━━━━━━━━━━━━━━━━━━━━\u001b[0m\u001b[37m\u001b[0m \u001b[1m0s\u001b[0m 4ms/step \n"
          ]
        }
      ]
    },
    {
      "cell_type": "code",
      "source": [
        "# Hitung metrik untuk training dan test set\n",
        "train_r2 = r2_score(y_train, y_train_pred)\n",
        "test_r2 = r2_score(y_test, y_test_pred)\n",
        "train_mse = mean_squared_error(y_train, y_train_pred)\n",
        "test_mse = mean_squared_error(y_test, y_test_pred)\n",
        "\n",
        "# Tampilkan hasil\n",
        "print(\"Training Set:\")\n",
        "print(f\"R-squared: {train_r2:.4f}\")\n",
        "print(f\"Mean Squared Error: {train_mse:.4f}\")\n",
        "\n",
        "print(\"\\nTest Set:\")\n",
        "print(f\"R-squared: {test_r2:.4f}\")\n",
        "print(f\"Mean Squared Error: {test_mse:.4f}\")"
      ],
      "metadata": {
        "id": "Ew7jIt0CAvLu",
        "colab": {
          "base_uri": "https://localhost:8080/"
        },
        "outputId": "021d38c7-965d-4d9e-cc68-6084c8b69d44"
      },
      "execution_count": null,
      "outputs": [
        {
          "output_type": "stream",
          "name": "stdout",
          "text": [
            "Training Set:\n",
            "R-squared: 0.9985\n",
            "Mean Squared Error: 0.0879\n",
            "\n",
            "Test Set:\n",
            "R-squared: 0.9334\n",
            "Mean Squared Error: 3.3457\n"
          ]
        }
      ]
    },
    {
      "cell_type": "code",
      "source": [
        "# Buat tabel label, prediksi, dan residu untuk test set\n",
        "test_results = pd.DataFrame({\n",
        "    'Actual': y_test.values,\n",
        "    'Predicted': y_test_pred,\n",
        "    'Residual': y_test.values - y_test_pred\n",
        "})\n",
        "\n",
        "# Buat tabel label, prediksi, dan residu untuk training set\n",
        "train_results = pd.DataFrame({\n",
        "    'Actual': y_train.values,\n",
        "    'Predicted': y_train_pred,\n",
        "    'Residual': y_train.values - y_train_pred\n",
        "})\n",
        "\n",
        "print(\"\\nTest Set Results:\")\n",
        "print(test_results)\n",
        "\n",
        "print(\"\\nTraining Set Results:\")\n",
        "print(train_results)"
      ],
      "metadata": {
        "id": "RcgpPFoUAwSn",
        "colab": {
          "base_uri": "https://localhost:8080/"
        },
        "outputId": "f0670477-39d0-49ce-8f17-1cc8f29f70d5"
      },
      "execution_count": null,
      "outputs": [
        {
          "output_type": "stream",
          "name": "stdout",
          "text": [
            "\n",
            "Test Set Results:\n",
            "     Actual  Predicted  Residual\n",
            "0      52.0  53.238178 -1.238178\n",
            "1      60.0  59.961666  0.038334\n",
            "2      53.0  53.139545 -0.139545\n",
            "3      48.0  51.158627 -3.158627\n",
            "4      54.0  55.007656 -1.007656\n",
            "..      ...        ...       ...\n",
            "195    61.0  63.438713 -2.438713\n",
            "196    56.0  52.057835  3.942165\n",
            "197    58.0  58.982906 -0.982906\n",
            "198    53.0  54.014927 -1.014927\n",
            "199    63.0  66.101646 -3.101646\n",
            "\n",
            "[200 rows x 3 columns]\n",
            "\n",
            "Training Set Results:\n",
            "      Actual  Predicted  Residual\n",
            "0       58.0  57.850117  0.149883\n",
            "1       41.6  41.478905  0.121095\n",
            "2       40.8  40.930649 -0.130649\n",
            "3       47.0  47.272381 -0.272381\n",
            "4       53.0  52.879055  0.120945\n",
            "...      ...        ...       ...\n",
            "1795    64.0  63.523460  0.476540\n",
            "1796    44.0  44.222065 -0.222065\n",
            "1797    58.0  58.086208 -0.086208\n",
            "1798    53.0  52.886295  0.113705\n",
            "1799    37.6  37.919621 -0.319621\n",
            "\n",
            "[1800 rows x 3 columns]\n"
          ]
        }
      ]
    },
    {
      "cell_type": "code",
      "source": [
        "import matplotlib.pyplot as plt\n",
        "# Plot Eksperimen vs Prediksi untuk training set\n",
        "plt.figure(figsize=(12, 6))\n",
        "plt.scatter(y_train, y_train_pred, color='blue', alpha=0.6, label='Training Set')\n",
        "plt.scatter(y_test, y_test_pred, color='orange', alpha=0.6, label='Test Set')\n",
        "plt.plot([min(y), max(y)], [min(y), max(y)], color='red', linestyle='--', label='Perfect Fit')\n",
        "plt.title('Actual vs Predicted Values')\n",
        "plt.xlabel('Actual')\n",
        "plt.ylabel('Predicted')\n",
        "plt.legend()\n",
        "plt.grid()\n",
        "plt.show()"
      ],
      "metadata": {
        "id": "-2RZ-snXA3Uu",
        "colab": {
          "base_uri": "https://localhost:8080/",
          "height": 564
        },
        "outputId": "3c7f27b9-67dd-4653-cdf6-f3266f62feba"
      },
      "execution_count": null,
      "outputs": [
        {
          "output_type": "display_data",
          "data": {
            "text/plain": [
              "<Figure size 1200x600 with 1 Axes>"
            ],
            "image/png": "[encoded data removed]"
          },
          "metadata": {}
        }
      ]
    },
    {
      "cell_type": "markdown",
      "source": [
        "Different Coding to Build Model and Predict Loan Approval"
      ],
      "metadata": {
        "id": "YQZ75PfGE2II"
      }
    },
    {
      "cell_type": "code",
      "source": [
        "# Pisahkan fitur (X) dan target (y)\n",
        "X = data.drop(columns=['LoanApproved'])  # Ambil semua kolom kecuali ... sebagai fitur\n",
        "y = data['LoanApproved']  # Kolom sebagai target"
      ],
      "metadata": {
        "id": "7e4javFtE3aH"
      },
      "execution_count": null,
      "outputs": []
    },
    {
      "cell_type": "code",
      "source": [
        "# Bagi data2 menjadi training dan testing set\n",
        "X_train, X_test, y_train, y_test = train_test_split(X, y, test_size=0.1, random_state=42)\n",
        "\n",
        "# Normalisasi dan standarisasi data2\n",
        "scaler_minmax = MinMaxScaler()  # Normalisasi\n",
        "scaler_standard = StandardScaler()  # Standarisasi"
      ],
      "metadata": {
        "id": "aWIUJgmuE6ve"
      },
      "execution_count": null,
      "outputs": []
    },
    {
      "cell_type": "code",
      "source": [
        "# Fit-transform pada data2 training\n",
        "X_train_normalized = scaler_minmax.fit_transform(X_train)\n",
        "X_train_standardized = scaler_standard.fit_transform(X_train_normalized)\n",
        "\n",
        "# Transform data2 testing\n",
        "X_test_normalized = scaler_minmax.transform(X_test)\n",
        "X_test_standardized = scaler_standard.transform(X_test_normalized)"
      ],
      "metadata": {
        "id": "KuHSCqCDE7se"
      },
      "execution_count": null,
      "outputs": []
    },
    {
      "cell_type": "code",
      "source": [
        "# Tetapkan parameter ANN secara manual\n",
        "optimizer = 'adam'  # Optimizer yang digunakan\n",
        "neurons = 60  # Jumlah neuron di setiap lapisan\n",
        "hidden_layers = 5  # Jumlah lapisan tersembunyi\n",
        "batch_size = 32  # Ukuran batch\n",
        "epochs = 1000  # Jumlah epoch\n",
        "\n",
        "# Pembangunan model ANN\n",
        "model = Sequential()"
      ],
      "metadata": {
        "id": "D-hAYzBlE8bm"
      },
      "execution_count": null,
      "outputs": []
    },
    {
      "cell_type": "code",
      "source": [
        "# Lapisan input pertama\n",
        "model.add(Dense(neurons, input_dim=X_train.shape[1], activation='relu'))\n",
        "\n",
        "# Tambahkan lapisan tersembunyi\n",
        "for _ in range(hidden_layers):\n",
        "    model.add(Dense(neurons, activation='relu'))\n",
        "\n",
        "# Lapisan output\n",
        "model.add(Dense(1, activation='linear'))\n",
        "\n",
        "# Kompilasi model\n",
        "model.compile(optimizer=optimizer, loss='mean_squared_error')\n",
        "\n",
        "# Latih model\n",
        "model.fit(X_train_standardized, y_train, batch_size=batch_size, epochs=epochs, verbose=0)\n",
        "\n",
        "# Prediksi pada training dan test set\n",
        "y_train_pred = model.predict(X_train_standardized).flatten()\n",
        "y_test_pred = model.predict(X_test_standardized).flatten()\n"
      ],
      "metadata": {
        "colab": {
          "base_uri": "https://localhost:8080/"
        },
        "id": "I0VmsYI8E9Uu",
        "outputId": "76c074a5-1ba0-415b-8195-901fa44a777f"
      },
      "execution_count": null,
      "outputs": [
        {
          "output_type": "stream",
          "name": "stderr",
          "text": [
            "/usr/local/lib/python3.10/dist-packages/keras/src/layers/core/dense.py:87: UserWarning: Do not pass an `input_shape`/`input_dim` argument to a layer. When using Sequential models, prefer using an `Input(shape)` object as the first layer in the model instead.\n",
            "  super().__init__(activity_regularizer=activity_regularizer, **kwargs)\n"
          ]
        },
        {
          "output_type": "stream",
          "name": "stdout",
          "text": [
            "\u001b[1m57/57\u001b[0m \u001b[32m━━━━━━━━━━━━━━━━━━━━\u001b[0m\u001b[37m\u001b[0m \u001b[1m0s\u001b[0m 3ms/step\n",
            "\u001b[1m7/7\u001b[0m \u001b[32m━━━━━━━━━━━━━━━━━━━━\u001b[0m\u001b[37m\u001b[0m \u001b[1m0s\u001b[0m 2ms/step \n"
          ]
        }
      ]
    },
    {
      "cell_type": "code",
      "source": [
        "# Hitung metrik untuk training dan test set\n",
        "train_r2 = r2_score(y_train, y_train_pred)\n",
        "test_r2 = r2_score(y_test, y_test_pred)\n",
        "train_mse = mean_squared_error(y_train, y_train_pred)\n",
        "test_mse = mean_squared_error(y_test, y_test_pred)\n",
        "\n",
        "# Tampilkan hasil\n",
        "print(\"Training Set:\")\n",
        "print(f\"R-squared: {train_r2:.4f}\")\n",
        "print(f\"Mean Squared Error: {train_mse:.4f}\")\n",
        "\n",
        "print(\"\\nTest Set:\")\n",
        "print(f\"R-squared: {test_r2:.4f}\")\n",
        "print(f\"Mean Squared Error: {test_mse:.4f}\")"
      ],
      "metadata": {
        "colab": {
          "base_uri": "https://localhost:8080/"
        },
        "id": "Zdg62ZfkE-XQ",
        "outputId": "6544f63b-92cb-4459-b716-ce66e316aaa6"
      },
      "execution_count": null,
      "outputs": [
        {
          "output_type": "stream",
          "name": "stdout",
          "text": [
            "Training Set:\n",
            "R-squared: 1.0000\n",
            "Mean Squared Error: 0.0000\n",
            "\n",
            "Test Set:\n",
            "R-squared: 1.0000\n",
            "Mean Squared Error: 0.0000\n"
          ]
        }
      ]
    },
    {
      "cell_type": "code",
      "source": [
        "# Buat tabel label, prediksi, dan residu untuk test set\n",
        "test_results = pd.DataFrame({\n",
        "    'Actual': y_test.values,\n",
        "    'Predicted': y_test_pred,\n",
        "    'Residual': y_test.values - y_test_pred\n",
        "})\n",
        "\n",
        "# Buat tabel label, prediksi, dan residu untuk training set\n",
        "train_results = pd.DataFrame({\n",
        "    'Actual': y_train.values,\n",
        "    'Predicted': y_train_pred,\n",
        "    'Residual': y_train.values - y_train_pred\n",
        "})\n",
        "\n",
        "print(\"\\nTest Set Results:\")\n",
        "print(test_results)\n",
        "\n",
        "print(\"\\nTraining Set Results:\")\n",
        "print(train_results)"
      ],
      "metadata": {
        "colab": {
          "base_uri": "https://localhost:8080/"
        },
        "id": "13_D4IbPE_me",
        "outputId": "2d3455ac-2f3b-442e-d5a7-8f62b9791819"
      },
      "execution_count": null,
      "outputs": [
        {
          "output_type": "stream",
          "name": "stdout",
          "text": [
            "\n",
            "Test Set Results:\n",
            "     Actual  Predicted  Residual\n",
            "0         0   0.000019 -0.000019\n",
            "1         0   0.000027 -0.000027\n",
            "2         0   0.000022 -0.000022\n",
            "3         0   0.000020 -0.000020\n",
            "4         0   0.000021 -0.000021\n",
            "..      ...        ...       ...\n",
            "195       0   0.000020 -0.000020\n",
            "196       0   0.000024 -0.000024\n",
            "197       0   0.000022 -0.000022\n",
            "198       0   0.000022 -0.000022\n",
            "199       0   0.000028 -0.000028\n",
            "\n",
            "[200 rows x 3 columns]\n",
            "\n",
            "Training Set Results:\n",
            "      Actual  Predicted  Residual\n",
            "0          0   0.000020 -0.000020\n",
            "1          1   0.999973  0.000027\n",
            "2          1   0.999951  0.000049\n",
            "3          0   0.000019 -0.000019\n",
            "4          0   0.000024 -0.000024\n",
            "...      ...        ...       ...\n",
            "1795       0   0.000017 -0.000017\n",
            "1796       1   0.999988  0.000012\n",
            "1797       0   0.000022 -0.000022\n",
            "1798       0   0.000025 -0.000025\n",
            "1799       1   0.999956  0.000044\n",
            "\n",
            "[1800 rows x 3 columns]\n"
          ]
        }
      ]
    }
  ]
}